{
 "cells": [
  {
   "cell_type": "code",
   "execution_count": 1,
   "metadata": {},
   "outputs": [],
   "source": [
    "test_url = \"https://jobs.apple.com/en-us/details/200577782/aiml-machine-learning-research-engineer-foundaton-models?team=MLAI\""
   ]
  },
  {
   "cell_type": "code",
   "execution_count": null,
   "metadata": {},
   "outputs": [
    {
     "ename": "NameError",
     "evalue": "name '__file__' is not defined",
     "output_type": "error",
     "traceback": [
      "\u001b[0;31m---------------------------------------------------------------------------\u001b[0m",
      "\u001b[0;31mNameError\u001b[0m                                 Traceback (most recent call last)",
      "Cell \u001b[0;32mIn[3], line 58\u001b[0m\n\u001b[1;32m     56\u001b[0m url \u001b[38;5;241m=\u001b[39m test_url  \u001b[38;5;66;03m# Replace with the desired URL\u001b[39;00m\n\u001b[1;32m     57\u001b[0m output_pdf_path \u001b[38;5;241m=\u001b[39m \u001b[38;5;124m\"\u001b[39m\u001b[38;5;124moutput2.pdf\u001b[39m\u001b[38;5;124m\"\u001b[39m  \u001b[38;5;66;03m# Specify the output path for the PDF\u001b[39;00m\n\u001b[0;32m---> 58\u001b[0m \u001b[43murl_to_pdf\u001b[49m\u001b[43m(\u001b[49m\u001b[43murl\u001b[49m\u001b[43m,\u001b[49m\u001b[43m \u001b[49m\u001b[43moutput_pdf_path\u001b[49m\u001b[43m)\u001b[49m\n",
      "Cell \u001b[0;32mIn[3], line 9\u001b[0m, in \u001b[0;36murl_to_pdf\u001b[0;34m(url, source_type)\u001b[0m\n\u001b[1;32m      8\u001b[0m \u001b[38;5;28;01mdef\u001b[39;00m \u001b[38;5;21murl_to_pdf\u001b[39m(url: \u001b[38;5;28mstr\u001b[39m, source_type: \u001b[38;5;28mstr\u001b[39m):\n\u001b[0;32m----> 9\u001b[0m             current_dir \u001b[38;5;241m=\u001b[39m os\u001b[38;5;241m.\u001b[39mpath\u001b[38;5;241m.\u001b[39mdirname(os\u001b[38;5;241m.\u001b[39mpath\u001b[38;5;241m.\u001b[39mabspath(\u001b[38;5;18;43m__file__\u001b[39;49m))\n\u001b[1;32m     10\u001b[0m             driver_dir \u001b[38;5;241m=\u001b[39m os\u001b[38;5;241m.\u001b[39mpath\u001b[38;5;241m.\u001b[39mjoin(current_dir, \u001b[38;5;124m\"\u001b[39m\u001b[38;5;124mdrivers\u001b[39m\u001b[38;5;124m\"\u001b[39m)\u001b[38;5;66;03m#install chrome driver within the repo\u001b[39;00m\n\u001b[1;32m     11\u001b[0m             os\u001b[38;5;241m.\u001b[39mmakedirs(driver_dir, exist_ok\u001b[38;5;241m=\u001b[39m\u001b[38;5;28;01mTrue\u001b[39;00m)\n",
      "\u001b[0;31mNameError\u001b[0m: name '__file__' is not defined"
     ]
    }
   ],
   "source": [
    "from selenium import webdriver\n",
    "from selenium.webdriver.chrome.service import Service\n",
    "from webdriver_manager.chrome import ChromeDriverManager\n",
    "import base64\n",
    "import time\n",
    "\n",
    "def url_to_pdf(url, output_pdf_path):\n",
    "\n",
    "     # Set up Selenium WebDriver with a headless Chrome browser\n",
    "        options = webdriver.ChromeOptions()\n",
    "        options.add_argument('--headless')\n",
    "        options.add_argument('--disable-gpu')\n",
    "        options.add_argument('--no-sandbox')\n",
    "        options.add_argument('--print-to-pdf')  # Chrome has built-in PDF support\n",
    "        options.add_argument('--disable-dev-shm-usage')\n",
    "        # options.binary_location = '/Applications/Google Chrome.app/Contents/MacOS/Google Chrome'\n",
    "\n",
    "        # Initialize the WebDriver\n",
    "        chrome_version = \"130.0.6723.92\"\n",
    "        driver = webdriver.Chrome(\n",
    "             service=Service(ChromeDriverManager(driver_version=chrome_version).install()),\n",
    "             options=options\n",
    "             )\n",
    "        try:\n",
    "            # Navigate to the URL\n",
    "            driver.get(url)\n",
    "\n",
    "            # Wait for the page to fully render\n",
    "            time.sleep(5)\n",
    "\n",
    "            # Save the rendered page as a PDF\n",
    "            # Use a Chrome DevTools command for generating the PDF\n",
    "            pdf_path = output_pdf_path\n",
    "            # Use Chrome DevTools Protocol (CDP) to generate the PDF\n",
    "            pdf_data = driver.execute_cdp_cmd(\"Page.printToPDF\", {\"landscape\": False})\n",
    "\n",
    "            # Decode the base64 PDF data and write it to a file\n",
    "            with open(output_pdf_path, \"wb\") as file:\n",
    "                file.write(base64.b64decode(pdf_data[\"data\"]))\n",
    "\n",
    "            print(f\"PDF generated successfully at: {output_pdf_path}\")\n",
    "\n",
    "        except Exception as e:\n",
    "            print(f\"Error occurred: {e}\")\n",
    "        finally:\n",
    "            driver.quit()\n",
    "\n",
    "# Example usage:\n",
    "url = test_url  # Replace with the desired URL\n",
    "output_pdf_path = \"output2.pdf\"  # Specify the output path for the PDF\n",
    "url_to_pdf(url, output_pdf_path)\n"
   ]
  },
  {
   "cell_type": "code",
   "execution_count": 3,
   "metadata": {},
   "outputs": [
    {
     "data": {
      "text/plain": [
       "'output2.pdf'"
      ]
     },
     "execution_count": 3,
     "metadata": {},
     "output_type": "execute_result"
    }
   ],
   "source": [
    "output_pdf_path"
   ]
  },
  {
   "cell_type": "code",
   "execution_count": null,
   "metadata": {},
   "outputs": [],
   "source": []
  },
  {
   "cell_type": "code",
   "execution_count": null,
   "metadata": {},
   "outputs": [],
   "source": []
  },
  {
   "cell_type": "code",
   "execution_count": 1,
   "metadata": {},
   "outputs": [
    {
     "name": "stdout",
     "output_type": "stream",
     "text": [
      "## $_{$_{y}$…}$\n",
      "\n",
      "W e l c o m e t o W a r n e r B r o s. D i s c o v e r\n",
      "\n",
      "t h e s t u f f d r e a m s a r e m a d e o f.\n",
      "\n",
      "W h o W e A r $_{e}$…\n",
      "\n",
      "When we say, 'the stuff dreams are made of,' we're not just referring to the world of wizards, dragons and superheroes, or even t Planet Earth. Behind WBD's vast portfolio of iconic content and beloved brands, are the storytellersbringing our characters to life bringing them to your living rooms and the dreamerscreating what's next…\n",
      "\n",
      "From brilliant creatives, to technology trailblazers, across the globe, WBD offers career defining opportunities, thoughtfully curat the tools to explore and grow into your best selves. Here you are supported, here you are celebrated, here you can thrive.\n",
      "\n",
      "## What we do\n",
      "\n",
      "Max is the 'One to Watch' Streaming App from Warner Bros Discovery featuring the largest and the critically acclaimed catalog f HBO, CNN, Discovery, A24, Food Network and many more. At Max, the Growth Engineering team comprises ML engineers, data sci software engineers. Our goal is to boost engagement and grow the number of active subscribers. We work across all customer in develop data products that enhance the customer experience and optimize for retention and lifetime value.\n",
      "\n",
      "## What You Will Do\n",
      "\n",
      "Research, design, and build high-impact end-to-end machine learning systems for customer growth\n",
      "\n",
      "Lead the design of scalable ML solutions in production\n",
      "\n",
      "Promote and role-model best practices of data science, engineering, and communication throughout the organization\n",
      "\n",
      "Evangelize ML adoption and innovation across the product and engineering teams\n",
      "\n",
      "Foster a diverse community of data scientists and ML engineers\n",
      "\n",
      "Partner with cross-functional teammates in Product, Design, Content, and Marketing to understand their problems and design What You Will Need\n",
      "\n",
      "M.S or B.S.in a Computer Science/Statistics/Data Science/Quant or related field\n",
      "\n",
      "5+ years of building products with Machine Learning and Personalization\n",
      "\n",
      "Strong proficiency with ML-frameworks such as TensorFlow, PyTorch, XGBoost, Scikit-learn etc.\n",
      "\n",
      "Knowledge in one or more of the areas such as Recommendations & Search, Causal Machine Learning, Interpretable ML, Multi-A Reinforcement Learning, and Constrained Optimization\n",
      "\n",
      "Production experience implementing machine learning pipelines and models at scale in Python, Java, Scala, or similar languag\n",
      "\n",
      "Demonstrated ability to lead technical decisions\n",
      "\n",
      "Excellent written and verbal communication skills, with the ability to effectively advocate technical solutions to data scientists, product manager audiences Search Jobs (https://careers.wbd.com/global/en/search-results)\n",
      "\n",
      "Passion for data-driven research, development, and experimentation Join Talent Community (https://careers.wbd.com/global/en/jointalentcommunity)\n",
      "\n",
      "Self-motivated, growth-oriented, and driven to pursue solutions to challenging problems\n",
      "\n",
      "Join Talent Community (https://careers.wbd.com/global/en/jointalentcommunity)\n",
      "\n",
      "## $_{e}$…\n",
      "\n",
      "H o w W e G e t T h i n g s D o n\n",
      "\n",
      "This last bit is probably the most important! Here at WBD, our guiding principles are the core values by which we operate and are get things done. You can find them at www.wbd.com/guiding-principles/ (http://www.wbd.com/guiding-principles/) along with som the team on what they mean and how they show up in their day to day. We hope they resonate with you and look forward to discu your interview. $_{|}$ Saved jobs (0) (https://careers.wbd.com/global/en/jobcart)\n",
      "\n",
      "C h a m p i o n i n g I n c l u s i o n a t W B D\n",
      "\n",
      "Warner Bros. Discovery embraces the opportunity to build a workforce that reflects the diversity of our society and the world aro equal opportunity employer means that we take seriously our responsibility to consider qualified candidates on the basis of merit to race, color, religion, national origin, gender, sexual orientation, gender identity or expression, age, mental or physical disability, information, marital status, citizenship status, military status, protected veteran status or any other category protected by law.\n",
      "\n",
      "If you're a qualified candidate with a disability and you require adjustments or accommodations during the job application and/or process, please visit our accessibility page (https://careers.wbd.com/global/en/accessibility) for instructions to submit your reque\n",
      "\n",
      "In compliance with local law, we are disclosing the compensation, or a range thereof, for roles in locations where legally required. vary based on several factors, including but not limited to external market data, internal equity, location, skill set, experience, and Base pay is just one component of Warner Bros. Discovery's total compensation package for employees. Pay Range: $119,700.00 salary per year. Other rewards may include annual bonuses, short-and long-term incentives, and program-specific awards. In add Bros. Discovery provides a variety of benefits to employees, including health insurance coverage, an employee wellness program insurance, a retirement savings plan, paid holidays and sick time and vacation.\n",
      "\n",
      "If you're a qualified candidate with an arrest or conviction record, please know that your application will be considered in accorda Angeles County Fair Chance Ordinance for Employers and the California Fair Chance Act.\n",
      "\n",
      "Apply Now\n",
      "\n",
      "(https://warnerbros.wd5.myworkdayjobs.com/global/job/WA-Bellevue-205-108th-Avenue-NE-Suite-S200/Sen\n",
      "\n",
      "\n",
      "\n",
      "Save |\n",
      "\n",
      "## Share this opportunity\n",
      "\n",
      "## Get notified for similar jobs\n",
      "\n",
      "Sign up to receive job alerts\n",
      "\n",
      "## Get tailored job recommendations based on your interests. Join Talent Community (https://careers.wbd.com/global/en/jointalentcommunity)\n",
      "\n",
      "$_{|}$ Saved jobs (0) (https://careers.wbd.com/global/en/jobcart)\n",
      "\n",
      "## Similar Jobs\n",
      "\n",
      "## Senior Machine Learning Engineer\n",
      "\n",
      "(https://careers.wbd.com/global/en/job/R000087618/Senior-Machine-Learning-Engineer)\n",
      "\n",
      "Warner Bros. Discovery Full time R000087618\n",
      "\n",
      "Job available in 3 locations $_{}$\n",
      "\n",
      "Application and/or recruitment process, please visit our accessibility page for instructions to submit your request. In compliance with local law, w the compensation, or a range thereo...\n",
      "\n",
      "Get Started\n",
      "\n",
      "\n"
     ]
    }
   ],
   "source": [
    "text = \"## $_{$_{y}$…}$\\n\\nW e l c o m e t o W a r n e r B r o s. D i s c o v e r\\n\\nt h e s t u f f d r e a m s a r e m a d e o f.\\n\\nW h o W e A r $_{e}$…\\n\\nWhen we say, 'the stuff dreams are made of,' we're not just referring to the world of wizards, dragons and superheroes, or even t Planet Earth. Behind WBD's vast portfolio of iconic content and beloved brands, are the storytellersbringing our characters to life bringing them to your living rooms and the dreamerscreating what's next…\\n\\nFrom brilliant creatives, to technology trailblazers, across the globe, WBD offers career defining opportunities, thoughtfully curat the tools to explore and grow into your best selves. Here you are supported, here you are celebrated, here you can thrive.\\n\\n## What we do\\n\\nMax is the 'One to Watch' Streaming App from Warner Bros Discovery featuring the largest and the critically acclaimed catalog f HBO, CNN, Discovery, A24, Food Network and many more. At Max, the Growth Engineering team comprises ML engineers, data sci software engineers. Our goal is to boost engagement and grow the number of active subscribers. We work across all customer in develop data products that enhance the customer experience and optimize for retention and lifetime value.\\n\\n## What You Will Do\\n\\nResearch, design, and build high-impact end-to-end machine learning systems for customer growth\\n\\nLead the design of scalable ML solutions in production\\n\\nPromote and role-model best practices of data science, engineering, and communication throughout the organization\\n\\nEvangelize ML adoption and innovation across the product and engineering teams\\n\\nFoster a diverse community of data scientists and ML engineers\\n\\nPartner with cross-functional teammates in Product, Design, Content, and Marketing to understand their problems and design What You Will Need\\n\\nM.S or B.S.in a Computer Science/Statistics/Data Science/Quant or related field\\n\\n5+ years of building products with Machine Learning and Personalization\\n\\nStrong proficiency with ML-frameworks such as TensorFlow, PyTorch, XGBoost, Scikit-learn etc.\\n\\nKnowledge in one or more of the areas such as Recommendations & Search, Causal Machine Learning, Interpretable ML, Multi-A Reinforcement Learning, and Constrained Optimization\\n\\nProduction experience implementing machine learning pipelines and models at scale in Python, Java, Scala, or similar languag\\n\\nDemonstrated ability to lead technical decisions\\n\\nExcellent written and verbal communication skills, with the ability to effectively advocate technical solutions to data scientists, product manager audiences Search Jobs (https://careers.wbd.com/global/en/search-results)\\n\\nPassion for data-driven research, development, and experimentation Join Talent Community (https://careers.wbd.com/global/en/jointalentcommunity)\\n\\nSelf-motivated, growth-oriented, and driven to pursue solutions to challenging problems\\n\\nJoin Talent Community (https://careers.wbd.com/global/en/jointalentcommunity)\\n\\n## $_{e}$…\\n\\nH o w W e G e t T h i n g s D o n\\n\\nThis last bit is probably the most important! Here at WBD, our guiding principles are the core values by which we operate and are get things done. You can find them at www.wbd.com/guiding-principles/ (http://www.wbd.com/guiding-principles/) along with som the team on what they mean and how they show up in their day to day. We hope they resonate with you and look forward to discu your interview. $_{|}$ Saved jobs (0) (https://careers.wbd.com/global/en/jobcart)\\n\\nC h a m p i o n i n g I n c l u s i o n a t W B D\\n\\nWarner Bros. Discovery embraces the opportunity to build a workforce that reflects the diversity of our society and the world aro equal opportunity employer means that we take seriously our responsibility to consider qualified candidates on the basis of merit to race, color, religion, national origin, gender, sexual orientation, gender identity or expression, age, mental or physical disability, information, marital status, citizenship status, military status, protected veteran status or any other category protected by law.\\n\\nIf you're a qualified candidate with a disability and you require adjustments or accommodations during the job application and/or process, please visit our accessibility page (https://careers.wbd.com/global/en/accessibility) for instructions to submit your reque\\n\\nIn compliance with local law, we are disclosing the compensation, or a range thereof, for roles in locations where legally required. vary based on several factors, including but not limited to external market data, internal equity, location, skill set, experience, and Base pay is just one component of Warner Bros. Discovery's total compensation package for employees. Pay Range: $119,700.00 salary per year. Other rewards may include annual bonuses, short-and long-term incentives, and program-specific awards. In add Bros. Discovery provides a variety of benefits to employees, including health insurance coverage, an employee wellness program insurance, a retirement savings plan, paid holidays and sick time and vacation.\\n\\nIf you're a qualified candidate with an arrest or conviction record, please know that your application will be considered in accorda Angeles County Fair Chance Ordinance for Employers and the California Fair Chance Act.\\n\\nApply Now\\n\\n(https://warnerbros.wd5.myworkdayjobs.com/global/job/WA-Bellevue-205-108th-Avenue-NE-Suite-S200/Sen\\n\\n\\n\\nSave |\\n\\n## Share this opportunity\\n\\n## Get notified for similar jobs\\n\\nSign up to receive job alerts\\n\\n## Get tailored job recommendations based on your interests. Join Talent Community (https://careers.wbd.com/global/en/jointalentcommunity)\\n\\n$_{|}$ Saved jobs (0) (https://careers.wbd.com/global/en/jobcart)\\n\\n## Similar Jobs\\n\\n## Senior Machine Learning Engineer\\n\\n(https://careers.wbd.com/global/en/job/R000087618/Senior-Machine-Learning-Engineer)\\n\\nWarner Bros. Discovery Full time R000087618\\n\\nJob available in 3 locations $_{}$\\n\\nApplication and/or recruitment process, please visit our accessibility page for instructions to submit your request. In compliance with local law, w the compensation, or a range thereo...\\n\\nGet Started\\n\\n\"\n",
    "print(text)"
   ]
  },
  {
   "cell_type": "code",
   "execution_count": null,
   "metadata": {},
   "outputs": [],
   "source": []
  }
 ],
 "metadata": {
  "kernelspec": {
   "display_name": "resumate-env",
   "language": "python",
   "name": "python3"
  },
  "language_info": {
   "codemirror_mode": {
    "name": "ipython",
    "version": 3
   },
   "file_extension": ".py",
   "mimetype": "text/x-python",
   "name": "python",
   "nbconvert_exporter": "python",
   "pygments_lexer": "ipython3",
   "version": "3.12.1"
  }
 },
 "nbformat": 4,
 "nbformat_minor": 2
}
